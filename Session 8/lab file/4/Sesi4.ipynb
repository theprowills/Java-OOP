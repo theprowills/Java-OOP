{
 "cells": [
  {
   "cell_type": "code",
   "execution_count": 64,
   "metadata": {},
   "outputs": [],
   "source": [
    "from Bio.Seq import Seq\n",
    "\n",
    "SeqA = Seq('AAGCTTAGCTAGAGCAGTCAGCTAGCTAGCT')\n",
    "SeqB = Seq('TCTGAAGCTAGCTAGTGCATAGCTAGCTAGC')\n"
   ]
  },
  {
   "cell_type": "code",
   "execution_count": 65,
   "metadata": {},
   "outputs": [
    {
     "name": "stdout",
     "output_type": "stream",
     "text": [
      "[Alignment(seqA='----AAGCTTAGCTAGA-GCAGTCAGCTAGCTAGCT', seqB='TCTGAAGC-TAGCTAG-TGCA-T-AGCTAGCTAGC-', score=26.0, start=0, end=36), Alignment(seqA='----AAGCTTAGCTAGA-GCAGTCAGCTAGCTAGCT', seqB='TCTGAAGCT-AGCTAG-TGCA-T-AGCTAGCTAGC-', score=26.0, start=0, end=36), Alignment(seqA='----AAGCTTAGCTAGAGCAGTCAGCTAGCTAGCT', seqB='TCTGAAGC-TAGCTAGTGCA-T-AGCTAGCTAGC-', score=26.0, start=0, end=35), Alignment(seqA='----AAGCTTAGCTAGAGCAGTCAGCTAGCTAGCT', seqB='TCTGAAGCT-AGCTAGTGCA-T-AGCTAGCTAGC-', score=26.0, start=0, end=35)]\n",
      "----AAGCTTAGCTAGA-GCAGTCAGCTAGCTAGCT TCTGAAGC-TAGCTAG-TGCA-T-AGCTAGCTAGC- 26.0 0 36\n",
      "----AAGCTTAGCTAGA-GCAGTCAGCTAGCTAGCT TCTGAAGCT-AGCTAG-TGCA-T-AGCTAGCTAGC- 26.0 0 36\n",
      "----AAGCTTAGCTAGAGCAGTCAGCTAGCTAGCT TCTGAAGC-TAGCTAGTGCA-T-AGCTAGCTAGC- 26.0 0 35\n",
      "----AAGCTTAGCTAGAGCAGTCAGCTAGCTAGCT TCTGAAGCT-AGCTAGTGCA-T-AGCTAGCTAGC- 26.0 0 35\n",
      "----AAGCTTAGCTAGA-GCAGTCAGCTAGCTAGCT\n",
      "    |||| |||||||  ||| | ||||||||||| \n",
      "TCTGAAGC-TAGCTAG-TGCA-T-AGCTAGCTAGC-\n",
      "  Score=26\n",
      "\n",
      "----AAGCTTAGCTAGA-GCAGTCAGCTAGCTAGCT\n",
      "    ||||| ||||||  ||| | ||||||||||| \n",
      "TCTGAAGCT-AGCTAG-TGCA-T-AGCTAGCTAGC-\n",
      "  Score=26\n",
      "\n",
      "----AAGCTTAGCTAGAGCAGTCAGCTAGCTAGCT\n",
      "    |||| |||||||.||| | ||||||||||| \n",
      "TCTGAAGC-TAGCTAGTGCA-T-AGCTAGCTAGC-\n",
      "  Score=26\n",
      "\n",
      "----AAGCTTAGCTAGAGCAGTCAGCTAGCTAGCT\n",
      "    ||||| ||||||.||| | ||||||||||| \n",
      "TCTGAAGCT-AGCTAGTGCA-T-AGCTAGCTAGC-\n",
      "  Score=26\n",
      "\n"
     ]
    }
   ],
   "source": [
    "from Bio import pairwise2\n",
    "\n",
    "#xx -> cara untuk compare, biasanya ambil 2 parameter (not custom)\n",
    "#mx -> cara compate tapi dengan memberi nilai match dan mismatchnya (4 parameter)(custom)\n",
    "#ms -> beri nilai match, mismatch, nilai start gap, nilai extend gap (6 parameter)(custom)\n",
    "\n",
    "#global\n",
    "align = pairwise2.align.globalxx(SeqA, SeqB)\n",
    "print(align)\n",
    "\n",
    "for a in align :\n",
    "    print(*a)\n",
    "\n",
    "\n",
    "from Bio.pairwise2 import format_alignment\n",
    "\n",
    "for a in align :\n",
    "    print(format_alignment(*a))"
   ]
  },
  {
   "cell_type": "code",
   "execution_count": 66,
   "metadata": {},
   "outputs": [
    {
     "name": "stdout",
     "output_type": "stream",
     "text": [
      "[Alignment(seqA='----AAGCTTAGCTAGA-GCAGTCAGCTAGCTAGCT', seqB='TCTGAAGC-TAGCTAG-TGCA-T-AGCTAGCTAGC-', score=26.0, start=4, end=35), Alignment(seqA='----AAGCTTAGCTAGA-GCAGTCAGCTAGCTAGCT', seqB='TCTGAAGCT-AGCTAG-TGCA-T-AGCTAGCTAGC-', score=26.0, start=4, end=35), Alignment(seqA='----AAGCTTAGCTAGAGCAGTCAGCTAGCTAGCT', seqB='TCTGAAGC-TAGCTAGTGCA-T-AGCTAGCTAGC-', score=26.0, start=4, end=34), Alignment(seqA='----AAGCTTAGCTAGAGCAGTCAGCTAGCTAGCT', seqB='TCTGAAGCT-AGCTAGTGCA-T-AGCTAGCTAGC-', score=26.0, start=4, end=34)]\n",
      "----AAGCTTAGCTAGA-GCAGTCAGCTAGCTAGCT TCTGAAGC-TAGCTAG-TGCA-T-AGCTAGCTAGC- 26.0 4 35\n",
      "----AAGCTTAGCTAGA-GCAGTCAGCTAGCTAGCT TCTGAAGCT-AGCTAG-TGCA-T-AGCTAGCTAGC- 26.0 4 35\n",
      "----AAGCTTAGCTAGAGCAGTCAGCTAGCTAGCT TCTGAAGC-TAGCTAGTGCA-T-AGCTAGCTAGC- 26.0 4 34\n",
      "----AAGCTTAGCTAGAGCAGTCAGCTAGCTAGCT TCTGAAGCT-AGCTAGTGCA-T-AGCTAGCTAGC- 26.0 4 34\n",
      "1 AAGCTTAGCTAGA-GCAGTCAGCTAGCTAGC\n",
      "  |||| |||||||  ||| | |||||||||||\n",
      "5 AAGC-TAGCTAG-TGCA-T-AGCTAGCTAGC\n",
      "  Score=26\n",
      "\n",
      "1 AAGCTTAGCTAGA-GCAGTCAGCTAGCTAGC\n",
      "  ||||| ||||||  ||| | |||||||||||\n",
      "5 AAGCT-AGCTAG-TGCA-T-AGCTAGCTAGC\n",
      "  Score=26\n",
      "\n",
      "1 AAGCTTAGCTAGAGCAGTCAGCTAGCTAGC\n",
      "  |||| |||||||.||| | |||||||||||\n",
      "5 AAGC-TAGCTAGTGCA-T-AGCTAGCTAGC\n",
      "  Score=26\n",
      "\n",
      "1 AAGCTTAGCTAGAGCAGTCAGCTAGCTAGC\n",
      "  ||||| ||||||.||| | |||||||||||\n",
      "5 AAGCT-AGCTAGTGCA-T-AGCTAGCTAGC\n",
      "  Score=26\n",
      "\n"
     ]
    }
   ],
   "source": [
    "#local\n",
    "align = pairwise2.align.localxx(SeqA, SeqB)\n",
    "print(align)\n",
    "\n",
    "for a in align :\n",
    "    print(*a)\n",
    "\n",
    "\n",
    "from Bio.pairwise2 import format_alignment\n",
    "\n",
    "for a in align :\n",
    "    print(format_alignment(*a))"
   ]
  },
  {
   "cell_type": "code",
   "execution_count": 67,
   "metadata": {},
   "outputs": [
    {
     "name": "stdout",
     "output_type": "stream",
     "text": [
      "[Alignment(seqA='----AAGCTTAGCTAGA-GCAGTCAGCTAGCTAGCT', seqB='TCTGAAGC-TAGCTAG-TGCA-T-AGCTAGCTAGC-', score=22.2, start=0, end=36), Alignment(seqA='----AAGCTTAGCTAGA-GCAGTCAGCTAGCTAGCT', seqB='TCTGAAGCT-AGCTAG-TGCA-T-AGCTAGCTAGC-', score=22.2, start=0, end=36), Alignment(seqA='----AAGCTTAGCTAGAGCAGTCAGCTAGCTAGCT', seqB='TCTGAAGC-TAGCTAGTGCA-T-AGCTAGCTAGC-', score=22.2, start=0, end=35), Alignment(seqA='----AAGCTTAGCTAGAGCAGTCAGCTAGCTAGCT', seqB='TCTGAAGCT-AGCTAGTGCA-T-AGCTAGCTAGC-', score=22.2, start=0, end=35)]\n",
      "[Alignment(seqA='----AAGCTTAGCTAGA-GCAGTCAGCTAGCTAGCT', seqB='TCTGAAGC-TAGCTAG-TGCA-T-AGCTAGCTAGC-', score=22.2, start=0, end=36), Alignment(seqA='----AAGCTTAGCTAGA-GCAGTCAGCTAGCTAGCT', seqB='TCTGAAGCT-AGCTAG-TGCA-T-AGCTAGCTAGC-', score=22.2, start=0, end=36), Alignment(seqA='----AAGCTTAGCTAGAGCAGTCAGCTAGCTAGCT', seqB='TCTGAAGC-TAGCTAGTGCA-T-AGCTAGCTAGC-', score=22.2, start=0, end=35), Alignment(seqA='----AAGCTTAGCTAGAGCAGTCAGCTAGCTAGCT', seqB='TCTGAAGCT-AGCTAGTGCA-T-AGCTAGCTAGC-', score=22.2, start=0, end=35)]\n",
      "[Alignment(seqA='----AAGCTTAGCTAGA-GCAGTCAGCTAGCTAGCT', seqB='TCTGAAGC-TAGCTAG-TGCA-T-AGCTAGCTAGC-', score=22.2, start=0, end=36), Alignment(seqA='----AAGCTTAGCTAGA-GCAGTCAGCTAGCTAGCT', seqB='TCTGAAGCT-AGCTAG-TGCA-T-AGCTAGCTAGC-', score=22.2, start=0, end=36), Alignment(seqA='----AAGCTTAGCTAGAGCAGTCAGCTAGCTAGCT', seqB='TCTGAAGC-TAGCTAGTGCA-T-AGCTAGCTAGC-', score=22.2, start=0, end=35), Alignment(seqA='----AAGCTTAGCTAGAGCAGTCAGCTAGCTAGCT', seqB='TCTGAAGCT-AGCTAGTGCA-T-AGCTAGCTAGC-', score=22.2, start=0, end=35)]\n",
      "[Alignment(seqA='----AAGCTTAGCTAGA-GCAGTCAGCTAGCTAGCT', seqB='TCTGAAGC-TAGCTAG-TGCA-T-AGCTAGCTAGC-', score=22.2, start=0, end=36), Alignment(seqA='----AAGCTTAGCTAGA-GCAGTCAGCTAGCTAGCT', seqB='TCTGAAGCT-AGCTAG-TGCA-T-AGCTAGCTAGC-', score=22.2, start=0, end=36), Alignment(seqA='----AAGCTTAGCTAGAGCAGTCAGCTAGCTAGCT', seqB='TCTGAAGC-TAGCTAGTGCA-T-AGCTAGCTAGC-', score=22.2, start=0, end=35), Alignment(seqA='----AAGCTTAGCTAGAGCAGTCAGCTAGCTAGCT', seqB='TCTGAAGCT-AGCTAGTGCA-T-AGCTAGCTAGC-', score=22.2, start=0, end=35)]\n",
      "----AAGCTTAGCTAGA-GCAGTCAGCTAGCTAGCT\n",
      "    |||| |||||||  ||| | ||||||||||| \n",
      "TCTGAAGC-TAGCTAG-TGCA-T-AGCTAGCTAGC-\n",
      "  Score=22.2\n",
      "\n",
      "----AAGCTTAGCTAGA-GCAGTCAGCTAGCTAGCT\n",
      "    ||||| ||||||  ||| | ||||||||||| \n",
      "TCTGAAGCT-AGCTAG-TGCA-T-AGCTAGCTAGC-\n",
      "  Score=22.2\n",
      "\n",
      "----AAGCTTAGCTAGAGCAGTCAGCTAGCTAGCT\n",
      "    |||| |||||||.||| | ||||||||||| \n",
      "TCTGAAGC-TAGCTAGTGCA-T-AGCTAGCTAGC-\n",
      "  Score=22.2\n",
      "\n",
      "----AAGCTTAGCTAGAGCAGTCAGCTAGCTAGCT\n",
      "    ||||| ||||||.||| | ||||||||||| \n",
      "TCTGAAGCT-AGCTAGTGCA-T-AGCTAGCTAGC-\n",
      "  Score=22.2\n",
      "\n"
     ]
    }
   ],
   "source": [
    "#xx\n",
    "align = pairwise2.align.globalxx(SeqA, SeqB)\n",
    "\n",
    "#mx\n",
    "align = pairwise2.align.globalmx(SeqA, SeqB, 1, -1)\n",
    "\n",
    "#ms\n",
    "align = pairwise2.align.globalms(SeqA, SeqB, 1, -1, -0.5, -0.1)\n",
    "\n",
    "for a in align:\n",
    "    print(align)\n",
    "\n",
    "for a in align:\n",
    "    print(format_alignment(*a))"
   ]
  },
  {
   "cell_type": "code",
   "execution_count": 68,
   "metadata": {},
   "outputs": [
    {
     "name": "stdout",
     "output_type": "stream",
     "text": [
      "A==T-->False\n",
      "A==C-->False\n",
      "G==T-->False\n",
      "C==G-->False\n",
      "T==A-->False\n",
      "T==A-->False\n",
      "A==G-->False\n",
      "G==C-->False\n",
      "C==T-->False\n",
      "T==A-->False\n",
      "A==G-->False\n",
      "G==C-->False\n",
      "A==T-->False\n",
      "G==A-->False\n",
      "C==G-->False\n",
      "A==T-->False\n",
      "G==G-->True\n",
      "T==C-->False\n",
      "C==A-->False\n",
      "A==T-->False\n",
      "G==A-->False\n",
      "C==G-->False\n",
      "T==C-->False\n",
      "A==T-->False\n",
      "G==A-->False\n",
      "C==G-->False\n",
      "T==C-->False\n",
      "A==T-->False\n",
      "G==A-->False\n",
      "C==G-->False\n",
      "T==C-->False\n",
      "30\n"
     ]
    }
   ],
   "source": [
    "def hamming(seq1, seq2) :\n",
    "    counter = 0\n",
    "    for x,y in zip(seq1,seq2) :\n",
    "        print(x + '==' + y + '-->', end='')\n",
    "        print(y==x)\n",
    "        if x != y :\n",
    "            counter = counter + 1\n",
    "    return counter\n",
    "\n",
    "print(hamming(SeqA, SeqB))"
   ]
  },
  {
   "cell_type": "code",
   "execution_count": 69,
   "metadata": {},
   "outputs": [
    {
     "name": "stdout",
     "output_type": "stream",
     "text": [
      "Defaulting to user installation because normal site-packages is not writeable\n",
      "Requirement already satisfied: python-Levenshtein in c:\\programdata\\anaconda3\\envs\\computational_biology\\lib\\site-packages (0.20.9)\n",
      "Requirement already satisfied: Levenshtein==0.20.9 in c:\\programdata\\anaconda3\\envs\\computational_biology\\lib\\site-packages (from python-Levenshtein) (0.20.9)\n",
      "Requirement already satisfied: rapidfuzz<3.0.0,>=2.3.0 in c:\\programdata\\anaconda3\\envs\\computational_biology\\lib\\site-packages (from Levenshtein==0.20.9->python-Levenshtein) (2.15.1)\n",
      "Note: you may need to restart the kernel to use updated packages.\n"
     ]
    },
    {
     "name": "stderr",
     "output_type": "stream",
     "text": [
      "WARNING: There was an error checking the latest version of pip.\n"
     ]
    }
   ],
   "source": [
    "%pip install python-Levenshtein"
   ]
  },
  {
   "cell_type": "code",
   "execution_count": 70,
   "metadata": {},
   "outputs": [
    {
     "name": "stdout",
     "output_type": "stream",
     "text": [
      "9\n"
     ]
    }
   ],
   "source": [
    "from Levenshtein import distance   \n",
    "print(distance(SeqA, SeqB))"
   ]
  },
  {
   "cell_type": "code",
   "execution_count": 71,
   "metadata": {},
   "outputs": [
    {
     "name": "stdout",
     "output_type": "stream",
     "text": [
      "30\n"
     ]
    }
   ],
   "source": [
    "from Levenshtein import hamming\n",
    "print(hamming(SeqA, SeqB))"
   ]
  },
  {
   "cell_type": "code",
   "execution_count": 89,
   "metadata": {},
   "outputs": [
    {
     "name": "stdout",
     "output_type": "stream",
     "text": [
      " |AAGCTTAGCTAGAGCAGTCAGCTAGCTAGCT\n",
      "T|xxxx  xxx xxxxxxx xxxx xxx xxx \n",
      "C|xxx xxxx xxxxx xxx xx xxx xxx x\n",
      "T|xxxx  xxx xxxxxxx xxxx xxx xxx \n",
      "G|xx xxxx xxx x xx xxx xxx xxx xx\n",
      "A|  xxxx xxx x xx xxx xxx xxx xxx\n",
      "A|  xxxx xxx x xx xxx xxx xxx xxx\n",
      "G|xx xxxx xxx x xx xxx xxx xxx xx\n",
      "C|xxx xxxx xxxxx xxx xx xxx xxx x\n",
      "T|xxxx  xxx xxxxxxx xxxx xxx xxx \n",
      "A|  xxxx xxx x xx xxx xxx xxx xxx\n",
      "G|xx xxxx xxx x xx xxx xxx xxx xx\n",
      "C|xxx xxxx xxxxx xxx xx xxx xxx x\n",
      "T|xxxx  xxx xxxxxxx xxxx xxx xxx \n",
      "A|  xxxx xxx x xx xxx xxx xxx xxx\n",
      "G|xx xxxx xxx x xx xxx xxx xxx xx\n",
      "T|xxxx  xxx xxxxxxx xxxx xxx xxx \n",
      "G|xx xxxx xxx x xx xxx xxx xxx xx\n",
      "C|xxx xxxx xxxxx xxx xx xxx xxx x\n",
      "A|  xxxx xxx x xx xxx xxx xxx xxx\n",
      "T|xxxx  xxx xxxxxxx xxxx xxx xxx \n",
      "A|  xxxx xxx x xx xxx xxx xxx xxx\n",
      "G|xx xxxx xxx x xx xxx xxx xxx xx\n",
      "C|xxx xxxx xxxxx xxx xx xxx xxx x\n",
      "T|xxxx  xxx xxxxxxx xxxx xxx xxx \n",
      "A|  xxxx xxx x xx xxx xxx xxx xxx\n",
      "G|xx xxxx xxx x xx xxx xxx xxx xx\n",
      "C|xxx xxxx xxxxx xxx xx xxx xxx x\n",
      "T|xxxx  xxx xxxxxxx xxxx xxx xxx \n",
      "A|  xxxx xxx x xx xxx xxx xxx xxx\n",
      "G|xx xxxx xxx x xx xxx xxx xxx xx\n",
      "C|xxx xxxx xxxxx xxx xx xxx xxx x\n"
     ]
    }
   ],
   "source": [
    "print(' |' + SeqA)\n",
    "\n",
    "for b in SeqB :\n",
    "    print(b + '|', end='')\n",
    "    for a in SeqA :\n",
    "        if b != a :\n",
    "            print('x', end='')\n",
    "        else :\n",
    "            print(' ', end='')\n",
    "    print()"
   ]
  }
 ],
 "metadata": {
  "kernelspec": {
   "display_name": "computational_biology",
   "language": "python",
   "name": "python3"
  },
  "language_info": {
   "codemirror_mode": {
    "name": "ipython",
    "version": 3
   },
   "file_extension": ".py",
   "mimetype": "text/x-python",
   "name": "python",
   "nbconvert_exporter": "python",
   "pygments_lexer": "ipython3",
   "version": "3.7.6"
  },
  "orig_nbformat": 4
 },
 "nbformat": 4,
 "nbformat_minor": 2
}
